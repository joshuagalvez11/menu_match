{
 "cells": [
  {
   "cell_type": "code",
   "execution_count": 4,
   "id": "5db318ba",
   "metadata": {},
   "outputs": [],
   "source": [
    "import pandas as pd\n",
    "import seaborn as sns\n",
    "import matplotlib.pyplot as plt\n",
    "import pandas as pd\n",
    "import numpy as np\n",
    "from sklearn import preprocessing\n",
    "from sklearn.preprocessing import LabelEncoder\n",
    "from sklearn.preprocessing import StandardScaler\n",
    "sns.set(color_codes=True)\n",
    "import warnings\n",
    "warnings.filterwarnings('ignore')\n",
    "from sklearn.model_selection import train_test_split\n",
    "from sklearn.datasets import make_classification\n",
    "from imblearn.over_sampling import SMOTE\n",
    "from sklearn.linear_model import LogisticRegression\n",
    "from sklearn.metrics import confusion_matrix, classification_report\n",
    "from sklearn.naive_bayes import GaussianNB\n",
    "from sklearn.neighbors import KNeighborsClassifier\n",
    "from sklearn import svm\n",
    "from sklearn.metrics import accuracy_score\n",
    "from sklearn.metrics import roc_curve\n",
    "from sklearn.metrics import roc_auc_score\n",
    "import random\n",
    "\n",
    "\n",
    "\n",
    "from nltk.tokenize import word_tokenize\n",
    "from nltk import pos_tag\n",
    "from nltk.corpus import stopwords\n",
    "from nltk.stem import WordNetLemmatizer\n",
    "from collections import defaultdict\n",
    "from nltk.corpus import wordnet as wn\n",
    "from sklearn.feature_extraction.text import TfidfVectorizer\n",
    "from fuzzywuzzy import fuzz \n",
    "from fuzzywuzzy import process "
   ]
  },
  {
   "cell_type": "code",
   "execution_count": 5,
   "id": "c36584f8",
   "metadata": {},
   "outputs": [],
   "source": [
    "df = pd.read_csv('restaurant-menus.csv')\n"
   ]
  },
  {
   "cell_type": "code",
   "execution_count": 87,
   "id": "4fceb5e9",
   "metadata": {},
   "outputs": [],
   "source": [
    "restaurant_id = pd.read_csv('restaurants.csv')"
   ]
  },
  {
   "cell_type": "code",
   "execution_count": 9,
   "id": "d88fb5ad",
   "metadata": {},
   "outputs": [
    {
     "data": {
      "text/html": [
       "<div>\n",
       "<style scoped>\n",
       "    .dataframe tbody tr th:only-of-type {\n",
       "        vertical-align: middle;\n",
       "    }\n",
       "\n",
       "    .dataframe tbody tr th {\n",
       "        vertical-align: top;\n",
       "    }\n",
       "\n",
       "    .dataframe thead th {\n",
       "        text-align: right;\n",
       "    }\n",
       "</style>\n",
       "<table border=\"1\" class=\"dataframe\">\n",
       "  <thead>\n",
       "    <tr style=\"text-align: right;\">\n",
       "      <th></th>\n",
       "      <th>restaurant_id</th>\n",
       "      <th>category</th>\n",
       "      <th>name</th>\n",
       "      <th>description</th>\n",
       "      <th>price</th>\n",
       "    </tr>\n",
       "  </thead>\n",
       "  <tbody>\n",
       "    <tr>\n",
       "      <th>0</th>\n",
       "      <td>1</td>\n",
       "      <td>Extra Large Pizza</td>\n",
       "      <td>Extra Large Meat Lovers</td>\n",
       "      <td>Whole pie.</td>\n",
       "      <td>15.99 USD</td>\n",
       "    </tr>\n",
       "    <tr>\n",
       "      <th>1</th>\n",
       "      <td>1</td>\n",
       "      <td>Extra Large Pizza</td>\n",
       "      <td>Extra Large Supreme</td>\n",
       "      <td>Whole pie.</td>\n",
       "      <td>15.99 USD</td>\n",
       "    </tr>\n",
       "    <tr>\n",
       "      <th>2</th>\n",
       "      <td>1</td>\n",
       "      <td>Extra Large Pizza</td>\n",
       "      <td>Extra Large Pepperoni</td>\n",
       "      <td>Whole pie.</td>\n",
       "      <td>14.99 USD</td>\n",
       "    </tr>\n",
       "    <tr>\n",
       "      <th>3</th>\n",
       "      <td>1</td>\n",
       "      <td>Extra Large Pizza</td>\n",
       "      <td>Extra Large BBQ Chicken &amp;amp; Bacon</td>\n",
       "      <td>Whole Pie</td>\n",
       "      <td>15.99 USD</td>\n",
       "    </tr>\n",
       "    <tr>\n",
       "      <th>4</th>\n",
       "      <td>1</td>\n",
       "      <td>Extra Large Pizza</td>\n",
       "      <td>Extra Large 5 Cheese</td>\n",
       "      <td>Whole pie.</td>\n",
       "      <td>14.99 USD</td>\n",
       "    </tr>\n",
       "    <tr>\n",
       "      <th>...</th>\n",
       "      <td>...</td>\n",
       "      <td>...</td>\n",
       "      <td>...</td>\n",
       "      <td>...</td>\n",
       "      <td>...</td>\n",
       "    </tr>\n",
       "    <tr>\n",
       "      <th>5117212</th>\n",
       "      <td>63469</td>\n",
       "      <td>Other Essentials</td>\n",
       "      <td>Composition Notebook</td>\n",
       "      <td>NaN</td>\n",
       "      <td>4.38 USD</td>\n",
       "    </tr>\n",
       "    <tr>\n",
       "      <th>5117213</th>\n",
       "      <td>63469</td>\n",
       "      <td>Other Essentials</td>\n",
       "      <td>Fancy Fest Savory Salmon - 3oz</td>\n",
       "      <td>NaN</td>\n",
       "      <td>1.19 USD</td>\n",
       "    </tr>\n",
       "    <tr>\n",
       "      <th>5117214</th>\n",
       "      <td>63469</td>\n",
       "      <td>Other Essentials</td>\n",
       "      <td>Bicycle Playing Cards</td>\n",
       "      <td>NaN</td>\n",
       "      <td>3.83 USD</td>\n",
       "    </tr>\n",
       "    <tr>\n",
       "      <th>5117215</th>\n",
       "      <td>63469</td>\n",
       "      <td>Other Essentials</td>\n",
       "      <td>Tidy Cat Liter - 10lbs</td>\n",
       "      <td>NaN</td>\n",
       "      <td>4.38 USD</td>\n",
       "    </tr>\n",
       "    <tr>\n",
       "      <th>5117216</th>\n",
       "      <td>63469</td>\n",
       "      <td>Other Essentials</td>\n",
       "      <td>7-Select Heavy Duty Foam Cooler</td>\n",
       "      <td>NaN</td>\n",
       "      <td>6.8 USD</td>\n",
       "    </tr>\n",
       "  </tbody>\n",
       "</table>\n",
       "<p>5117217 rows × 5 columns</p>\n",
       "</div>"
      ],
      "text/plain": [
       "         restaurant_id           category  \\\n",
       "0                    1  Extra Large Pizza   \n",
       "1                    1  Extra Large Pizza   \n",
       "2                    1  Extra Large Pizza   \n",
       "3                    1  Extra Large Pizza   \n",
       "4                    1  Extra Large Pizza   \n",
       "...                ...                ...   \n",
       "5117212          63469   Other Essentials   \n",
       "5117213          63469   Other Essentials   \n",
       "5117214          63469   Other Essentials   \n",
       "5117215          63469   Other Essentials   \n",
       "5117216          63469   Other Essentials   \n",
       "\n",
       "                                        name description      price  \n",
       "0                    Extra Large Meat Lovers  Whole pie.  15.99 USD  \n",
       "1                        Extra Large Supreme  Whole pie.  15.99 USD  \n",
       "2                      Extra Large Pepperoni  Whole pie.  14.99 USD  \n",
       "3        Extra Large BBQ Chicken &amp; Bacon   Whole Pie  15.99 USD  \n",
       "4                       Extra Large 5 Cheese  Whole pie.  14.99 USD  \n",
       "...                                      ...         ...        ...  \n",
       "5117212                 Composition Notebook         NaN   4.38 USD  \n",
       "5117213       Fancy Fest Savory Salmon - 3oz         NaN   1.19 USD  \n",
       "5117214                Bicycle Playing Cards         NaN   3.83 USD  \n",
       "5117215               Tidy Cat Liter - 10lbs         NaN   4.38 USD  \n",
       "5117216      7-Select Heavy Duty Foam Cooler         NaN    6.8 USD  \n",
       "\n",
       "[5117217 rows x 5 columns]"
      ]
     },
     "execution_count": 9,
     "metadata": {},
     "output_type": "execute_result"
    }
   ],
   "source": [
    "df"
   ]
  },
  {
   "cell_type": "code",
   "execution_count": 10,
   "id": "8e65add7",
   "metadata": {},
   "outputs": [
    {
     "data": {
      "text/plain": [
       "restaurant_id     int64\n",
       "category         object\n",
       "name             object\n",
       "description      object\n",
       "price            object\n",
       "dtype: object"
      ]
     },
     "execution_count": 10,
     "metadata": {},
     "output_type": "execute_result"
    }
   ],
   "source": [
    "df.dtypes"
   ]
  },
  {
   "cell_type": "code",
   "execution_count": 11,
   "id": "7cba135a",
   "metadata": {},
   "outputs": [],
   "source": [
    "df['name'] = df['name'].astype(str)"
   ]
  },
  {
   "cell_type": "code",
   "execution_count": 12,
   "id": "cf252d1a",
   "metadata": {},
   "outputs": [
    {
     "data": {
      "text/plain": [
       "restaurant_id     int64\n",
       "category         object\n",
       "name             object\n",
       "description      object\n",
       "price            object\n",
       "dtype: object"
      ]
     },
     "execution_count": 12,
     "metadata": {},
     "output_type": "execute_result"
    }
   ],
   "source": [
    "df.dtypes"
   ]
  },
  {
   "cell_type": "code",
   "execution_count": 13,
   "id": "8e177046",
   "metadata": {},
   "outputs": [
    {
     "data": {
      "text/plain": [
       "restaurant_id    5117217\n",
       "category         5117217\n",
       "name             5117217\n",
       "description      3665077\n",
       "price            5117217\n",
       "dtype: int64"
      ]
     },
     "execution_count": 13,
     "metadata": {},
     "output_type": "execute_result"
    }
   ],
   "source": [
    "df.count()"
   ]
  },
  {
   "cell_type": "code",
   "execution_count": 14,
   "id": "414168e0",
   "metadata": {},
   "outputs": [
    {
     "data": {
      "text/plain": [
       "restaurant_id    3665077\n",
       "category         3665077\n",
       "name             3665077\n",
       "description      3665077\n",
       "price            3665077\n",
       "dtype: int64"
      ]
     },
     "execution_count": 14,
     "metadata": {},
     "output_type": "execute_result"
    }
   ],
   "source": [
    "df = df.dropna()\n",
    "df = df.reset_index(drop=True)\n",
    "df.count()"
   ]
  },
  {
   "cell_type": "code",
   "execution_count": 360,
   "id": "52693805",
   "metadata": {},
   "outputs": [
    {
     "name": "stdout",
     "output_type": "stream",
     "text": [
      "Hibachi Filet Mignon   Cooked with Japanese soy sauce and teriyaki sauce. Served with onion mushroom soup and green salad. Include mixed hibachi vegetables and 2 pieces of shrimp. Steam rice or fried rice.\n"
     ]
    }
   ],
   "source": [
    "ra = random.randint(0, 5117210)\n",
    "print(df['name'][ra], \" \" , df['description'][ra])"
   ]
  },
  {
   "cell_type": "code",
   "execution_count": 60,
   "id": "5f5db70b",
   "metadata": {},
   "outputs": [
    {
     "name": "stdout",
     "output_type": "stream",
     "text": [
      "Chicken Bacon Ranch Cheesesteak: Chicken sandwich with bacon, ranch, and your choice of cheese.\n",
      "95\n"
     ]
    }
   ],
   "source": [
    "input_str =  'bacon egg ranch cheese chicken sandwich'\n",
    "\n",
    "best_match = ''\n",
    "best_score = 0\n",
    "\n",
    "for i in range(1, 100000):\n",
    "    sc = fuzz.token_set_ratio( input_str, df['description'][i])\n",
    "    \n",
    "    if sc > best_score:                    \n",
    "        best_score = sc\n",
    "        best_match = df['name'][i] + ': ' + df['description'][i]\n",
    "\n",
    "print(best_match)\n",
    "print(best_score)\n"
   ]
  },
  {
   "cell_type": "code",
   "execution_count": 68,
   "id": "558b5c22",
   "metadata": {},
   "outputs": [
    {
     "name": "stdout",
     "output_type": "stream",
     "text": [
      "Stuffed Waffle Biscuits: Your Choose your size of meats are sausage or ham or bacon or eggs, turkey (two meats with cheese).\n",
      "86\n"
     ]
    }
   ],
   "source": [
    "input_str =  'bacon egg cheese'\n",
    "\n",
    "best_match = ''\n",
    "best_score = 0\n",
    "\n",
    "for i in range(0, 1000):\n",
    "    sc = fuzz.token_set_ratio( input_str, df['description'][i])\n",
    "    if sc > best_score:                    \n",
    "        best_score = sc\n",
    "        best_match = df['name'][i] + ': ' + df['description'][i]\n",
    "\n",
    "print(best_match)\n",
    "print(best_score)"
   ]
  },
  {
   "cell_type": "code",
   "execution_count": 69,
   "id": "6c7dca78",
   "metadata": {},
   "outputs": [
    {
     "name": "stdout",
     "output_type": "stream",
     "text": [
      "Cream of Chicken &amp; Wild Rice Soup: Bowl (260 Cal.), Cup (180 Cal.), Bread Bowl (840 Cal.), Group (620 Cal.) Diced chicken, long grain and wild rice, celery, onion and carrots simmered in chicken stock with cream and select herbs. Allergens: Contains Wheat, Milk\n",
      "100\n"
     ]
    }
   ],
   "source": [
    "input_str =  'chicken and rice'\n",
    "\n",
    "best_match = ''\n",
    "best_score = 0\n",
    "\n",
    "for i in range(0, 1000):\n",
    "    sc = fuzz.token_set_ratio( input_str, df['description'][i])\n",
    "    if sc > best_score:                    \n",
    "        best_score = sc\n",
    "        best_match = df['name'][i] + ': ' + df['description'][i]\n",
    "\n",
    "print(best_match)\n",
    "print(best_score)"
   ]
  },
  {
   "cell_type": "code",
   "execution_count": 71,
   "id": "7a9a64d3",
   "metadata": {},
   "outputs": [],
   "source": [
    "# pip install wikipedia-api"
   ]
  },
  {
   "cell_type": "code",
   "execution_count": 70,
   "id": "ae0ef219",
   "metadata": {},
   "outputs": [],
   "source": [
    "# import wikipediaapi\n",
    "# import pandas as pd\n",
    "\n",
    "# def fetch_wikipedia_data(titles):\n",
    "#     wiki_wiki = wikipediaapi.Wikipedia('en')\n",
    "#     data = []\n",
    "#     for title in titles:\n",
    "#         page = wiki_wiki.page(title)\n",
    "#         if page.exists():\n",
    "#             data.append([title, page.fullurl, page.summary])\n",
    "#     return data\n",
    "\n",
    "# # Example list of Wikipedia article titles (you may need to generate or obtain this list)\n",
    "# article_titles = [\n",
    "#     \"Artificial intelligence\",\n",
    "#     \"Machine learning\",\n",
    "#     \"Data science\",\n",
    "#     # Add more titles as needed\n",
    "# ]\n",
    "\n",
    "# # Fetch data for the specified article titles\n",
    "# data = fetch_wikipedia_data(article_titles)\n",
    "\n",
    "# # Convert the data into a Pandas DataFrame\n",
    "# df = pd.DataFrame(data, columns=['Title', 'Link', 'Summary'])\n",
    "\n",
    "# # Print the DataFrame\n",
    "# print(df)\n"
   ]
  },
  {
   "cell_type": "code",
   "execution_count": 82,
   "id": "d516783c",
   "metadata": {},
   "outputs": [
    {
     "data": {
      "text/html": [
       "<div>\n",
       "<style scoped>\n",
       "    .dataframe tbody tr th:only-of-type {\n",
       "        vertical-align: middle;\n",
       "    }\n",
       "\n",
       "    .dataframe tbody tr th {\n",
       "        vertical-align: top;\n",
       "    }\n",
       "\n",
       "    .dataframe thead th {\n",
       "        text-align: right;\n",
       "    }\n",
       "</style>\n",
       "<table border=\"1\" class=\"dataframe\">\n",
       "  <thead>\n",
       "    <tr style=\"text-align: right;\">\n",
       "      <th></th>\n",
       "      <th>restaurant_id</th>\n",
       "      <th>category</th>\n",
       "      <th>name</th>\n",
       "      <th>description</th>\n",
       "      <th>price</th>\n",
       "      <th>menu_item</th>\n",
       "    </tr>\n",
       "  </thead>\n",
       "  <tbody>\n",
       "    <tr>\n",
       "      <th>0</th>\n",
       "      <td>1</td>\n",
       "      <td>Extra Large Pizza</td>\n",
       "      <td>Extra Large Meat Lovers</td>\n",
       "      <td>Whole pie.</td>\n",
       "      <td>15.99 USD</td>\n",
       "      <td>Extra Large Meat Lovers Whole pie.</td>\n",
       "    </tr>\n",
       "    <tr>\n",
       "      <th>1</th>\n",
       "      <td>1</td>\n",
       "      <td>Extra Large Pizza</td>\n",
       "      <td>Extra Large Supreme</td>\n",
       "      <td>Whole pie.</td>\n",
       "      <td>15.99 USD</td>\n",
       "      <td>Extra Large Supreme Whole pie.</td>\n",
       "    </tr>\n",
       "    <tr>\n",
       "      <th>2</th>\n",
       "      <td>1</td>\n",
       "      <td>Extra Large Pizza</td>\n",
       "      <td>Extra Large Pepperoni</td>\n",
       "      <td>Whole pie.</td>\n",
       "      <td>14.99 USD</td>\n",
       "      <td>Extra Large Pepperoni Whole pie.</td>\n",
       "    </tr>\n",
       "    <tr>\n",
       "      <th>3</th>\n",
       "      <td>1</td>\n",
       "      <td>Extra Large Pizza</td>\n",
       "      <td>Extra Large BBQ Chicken &amp;amp; Bacon</td>\n",
       "      <td>Whole Pie</td>\n",
       "      <td>15.99 USD</td>\n",
       "      <td>Extra Large BBQ Chicken &amp;amp; Bacon Whole Pie</td>\n",
       "    </tr>\n",
       "    <tr>\n",
       "      <th>4</th>\n",
       "      <td>1</td>\n",
       "      <td>Extra Large Pizza</td>\n",
       "      <td>Extra Large 5 Cheese</td>\n",
       "      <td>Whole pie.</td>\n",
       "      <td>14.99 USD</td>\n",
       "      <td>Extra Large 5 Cheese Whole pie.</td>\n",
       "    </tr>\n",
       "    <tr>\n",
       "      <th>...</th>\n",
       "      <td>...</td>\n",
       "      <td>...</td>\n",
       "      <td>...</td>\n",
       "      <td>...</td>\n",
       "      <td>...</td>\n",
       "      <td>...</td>\n",
       "    </tr>\n",
       "    <tr>\n",
       "      <th>3665072</th>\n",
       "      <td>63468</td>\n",
       "      <td>Desserts &amp;amp; More</td>\n",
       "      <td>Apple Pies</td>\n",
       "      <td>Satisfy your sweet tooth with our apple pie. J...</td>\n",
       "      <td>1.69 USD</td>\n",
       "      <td>Apple Pies Satisfy your sweet tooth with our a...</td>\n",
       "    </tr>\n",
       "    <tr>\n",
       "      <th>3665073</th>\n",
       "      <td>63469</td>\n",
       "      <td>Food</td>\n",
       "      <td>Mini Tacos - 10 pc</td>\n",
       "      <td>10 Count</td>\n",
       "      <td>5.32 USD</td>\n",
       "      <td>Mini Tacos - 10 pc 10 Count</td>\n",
       "    </tr>\n",
       "    <tr>\n",
       "      <th>3665074</th>\n",
       "      <td>63469</td>\n",
       "      <td>Food</td>\n",
       "      <td>Tyson Chicken Wings</td>\n",
       "      <td>Served with your choice of flavor.</td>\n",
       "      <td>4.71 USD</td>\n",
       "      <td>Tyson Chicken Wings Served with your choice of...</td>\n",
       "    </tr>\n",
       "    <tr>\n",
       "      <th>3665075</th>\n",
       "      <td>63469</td>\n",
       "      <td>Food</td>\n",
       "      <td>Mini Tacos - 10 pc</td>\n",
       "      <td>10 Count</td>\n",
       "      <td>5.32 USD</td>\n",
       "      <td>Mini Tacos - 10 pc 10 Count</td>\n",
       "    </tr>\n",
       "    <tr>\n",
       "      <th>3665076</th>\n",
       "      <td>63469</td>\n",
       "      <td>Household Goods</td>\n",
       "      <td>7-Select Plastic Utensils - 24 Count</td>\n",
       "      <td>Forks, spoons, and knives.</td>\n",
       "      <td>1.63 USD</td>\n",
       "      <td>7-Select Plastic Utensils - 24 Count Forks, sp...</td>\n",
       "    </tr>\n",
       "  </tbody>\n",
       "</table>\n",
       "<p>3665077 rows × 6 columns</p>\n",
       "</div>"
      ],
      "text/plain": [
       "         restaurant_id             category  \\\n",
       "0                    1    Extra Large Pizza   \n",
       "1                    1    Extra Large Pizza   \n",
       "2                    1    Extra Large Pizza   \n",
       "3                    1    Extra Large Pizza   \n",
       "4                    1    Extra Large Pizza   \n",
       "...                ...                  ...   \n",
       "3665072          63468  Desserts &amp; More   \n",
       "3665073          63469                 Food   \n",
       "3665074          63469                 Food   \n",
       "3665075          63469                 Food   \n",
       "3665076          63469      Household Goods   \n",
       "\n",
       "                                         name  \\\n",
       "0                     Extra Large Meat Lovers   \n",
       "1                         Extra Large Supreme   \n",
       "2                       Extra Large Pepperoni   \n",
       "3         Extra Large BBQ Chicken &amp; Bacon   \n",
       "4                        Extra Large 5 Cheese   \n",
       "...                                       ...   \n",
       "3665072                            Apple Pies   \n",
       "3665073                    Mini Tacos - 10 pc   \n",
       "3665074                   Tyson Chicken Wings   \n",
       "3665075                    Mini Tacos - 10 pc   \n",
       "3665076  7-Select Plastic Utensils - 24 Count   \n",
       "\n",
       "                                               description      price  \\\n",
       "0                                               Whole pie.  15.99 USD   \n",
       "1                                               Whole pie.  15.99 USD   \n",
       "2                                               Whole pie.  14.99 USD   \n",
       "3                                                Whole Pie  15.99 USD   \n",
       "4                                               Whole pie.  14.99 USD   \n",
       "...                                                    ...        ...   \n",
       "3665072  Satisfy your sweet tooth with our apple pie. J...   1.69 USD   \n",
       "3665073                                           10 Count   5.32 USD   \n",
       "3665074                 Served with your choice of flavor.   4.71 USD   \n",
       "3665075                                           10 Count   5.32 USD   \n",
       "3665076                         Forks, spoons, and knives.   1.63 USD   \n",
       "\n",
       "                                                 menu_item  \n",
       "0                       Extra Large Meat Lovers Whole pie.  \n",
       "1                           Extra Large Supreme Whole pie.  \n",
       "2                         Extra Large Pepperoni Whole pie.  \n",
       "3            Extra Large BBQ Chicken &amp; Bacon Whole Pie  \n",
       "4                          Extra Large 5 Cheese Whole pie.  \n",
       "...                                                    ...  \n",
       "3665072  Apple Pies Satisfy your sweet tooth with our a...  \n",
       "3665073                        Mini Tacos - 10 pc 10 Count  \n",
       "3665074  Tyson Chicken Wings Served with your choice of...  \n",
       "3665075                        Mini Tacos - 10 pc 10 Count  \n",
       "3665076  7-Select Plastic Utensils - 24 Count Forks, sp...  \n",
       "\n",
       "[3665077 rows x 6 columns]"
      ]
     },
     "execution_count": 82,
     "metadata": {},
     "output_type": "execute_result"
    }
   ],
   "source": [
    "df['menu_item'] = df['name'] + ' ' + df['description']\n",
    "df\n"
   ]
  },
  {
   "cell_type": "code",
   "execution_count": 98,
   "id": "2005e985",
   "metadata": {},
   "outputs": [
    {
     "name": "stdout",
     "output_type": "stream",
     "text": [
      "       restaurant_id                                               menu\n",
      "0                  1  Extra Large Meat Lovers Whole pie. Extra Large...\n",
      "1                  2  J’ Ti`’z Smoothie Tropical fruit blend, dragon...\n",
      "2                  3  Chicken Bacon Ranch Cheesesteak Chicken sandwi...\n",
      "3                  4  Chicken Bacon Artichoke - Keto Friendly (Bakin...\n",
      "4                  5  Full Sausage (2 pcs) with 2 Eggs 2 pieces. Dou...\n",
      "...              ...                                                ...\n",
      "60922          63465  Breakfast Sampler Two eggs* your way, 2 custom...\n",
      "60923          63466  Ready Rabbit Blue Curacao Non Alcoholic 750ml ...\n",
      "60924          63467  Heineken Non-Alcoholic 0.0 6x 11.2oz Cans Our ...\n",
      "60925          63468  3 Piece Combo Three pieces of chicken with two...\n",
      "60926          63469  Mini Tacos - 10 pc 10 Count Tyson Chicken Wing...\n",
      "\n",
      "[60927 rows x 2 columns]\n"
     ]
    }
   ],
   "source": [
    "# Group by 'restaurant_id' and concatenate 'menu_item' into one string separated by ','\n",
    "df_grouped = df.groupby('restaurant_id')['menu_item'].agg(lambda x: ' '.join(x)).reset_index()\n",
    "\n",
    "# Rename the aggregated column\n",
    "df_grouped.rename(columns={'menu_item': 'menu'}, inplace=True)\n",
    "\n",
    "print(df_grouped)\n"
   ]
  },
  {
   "cell_type": "code",
   "execution_count": 106,
   "id": "d6929bce",
   "metadata": {},
   "outputs": [
    {
     "data": {
      "text/plain": [
       "'Build Your Own Burrito Two scrambled eggs with your choice of meat and toppings wrapped in a fresh tortilla. Basic Breakfast Burrito Two scrambled eggs, breakfast potatoes, and melted cheese wrapped in a fresh flour tortilla. Bacon Breakfast Burrito Two scrambled eggs, crispy bacon, breakfast potatoes, and melted cheese wrapped in a fresh flour tortilla. Carne Asada Breakfast Burrito Two scrambled eggs, carne asada, breakfast potatoes, and melted cheese wrapped in a fresh flour tortilla. Sausage Breakfast Burrito Two scrambled eggs, sausage, breakfast potatoes, and melted cheese wrapped in a fresh flour tortilla. Spicy Hot Breakfast Burrito Two scrambled eggs, jalapenos, breakfast potatoes, sriracha and melted cheese wrapped in a fresh flour tortilla. Everything but the Kitchen Sink Breakfast Burrito Two scrambled eggs, bacon, carne asada, breakfast potatoes, avocado and melted cheese wrapped in a flour tortilla. Eat Your Veggies Breakfast Burrito Two scrambled eggs, sauteed mushrooms, spinach, grilled onions, diced tomato, avocado, and melted cheese wrapped in a fresh flour tortilla. Signature Breakfast Burrito Bowl Two scrambled eggs, breakfast potatoes, crispy bacon, avocado, veggies, and cheese in a bowl. Philly Cheesesteak Breakfast Burrito Two scrambled eggs, chopped steak, grilled onions and peppers, sauteed mushrooms, and melted cheese wrapped in a fresh flour tortilla.'"
      ]
     },
     "execution_count": 106,
     "metadata": {},
     "output_type": "execute_result"
    }
   ],
   "source": [
    "df_grouped['menu'][26]"
   ]
  },
  {
   "cell_type": "code",
   "execution_count": null,
   "id": "6434bee5",
   "metadata": {},
   "outputs": [],
   "source": []
  },
  {
   "cell_type": "code",
   "execution_count": 105,
   "id": "20278a7f",
   "metadata": {},
   "outputs": [
    {
     "name": "stdout",
     "output_type": "stream",
     "text": [
      "26: Ruscelli's Food Truck at Mojo Pub\n",
      "Build Your Own Burrito Two scrambled eggs with your choice of meat and toppings wrapped in a fresh tortilla. Basic Breakfast Burrito Two scrambled eggs, breakfast potatoes, and melted cheese wrapped in a fresh flour tortilla. Bacon Breakfast Burrito Two scrambled eggs, crispy bacon, breakfast potatoes, and melted cheese wrapped in a fresh flour tortilla. Carne Asada Breakfast Burrito Two scrambled eggs, carne asada, breakfast potatoes, and melted cheese wrapped in a fresh flour tortilla. Sausage Breakfast Burrito Two scrambled eggs, sausage, breakfast potatoes, and melted cheese wrapped in a fresh flour tortilla. Spicy Hot Breakfast Burrito Two scrambled eggs, jalapenos, breakfast potatoes, sriracha and melted cheese wrapped in a fresh flour tortilla. Everything but the Kitchen Sink Breakfast Burrito Two scrambled eggs, bacon, carne asada, breakfast potatoes, avocado and melted cheese wrapped in a flour tortilla. Eat Your Veggies Breakfast Burrito Two scrambled eggs, sauteed mushrooms, spinach, grilled onions, diced tomato, avocado, and melted cheese wrapped in a fresh flour tortilla. Signature Breakfast Burrito Bowl Two scrambled eggs, breakfast potatoes, crispy bacon, avocado, veggies, and cheese in a bowl. Philly Cheesesteak Breakfast Burrito Two scrambled eggs, chopped steak, grilled onions and peppers, sauteed mushrooms, and melted cheese wrapped in a fresh flour tortilla.\n",
      "100\n"
     ]
    }
   ],
   "source": [
    "input_str =  'carne asada burrito'\n",
    "\n",
    "best_match_rest = ''\n",
    "best_match_menu = ''\n",
    "best_score = 0\n",
    "\n",
    "for i in range(0, 10000):\n",
    "    sc = fuzz.token_set_ratio( input_str, df_grouped['menu'][i])\n",
    "    if sc > best_score:                    \n",
    "        best_score = sc\n",
    "        best_match_rest = str(i) + \": \" + restaurant_id['name'][i]\n",
    "        best_match_menu = df_grouped['menu'][i]\n",
    "\n",
    "print(best_match_rest)\n",
    "print(best_match_menu)\n",
    "print(best_score)"
   ]
  },
  {
   "cell_type": "code",
   "execution_count": 102,
   "id": "cb8d52d9",
   "metadata": {},
   "outputs": [
    {
     "name": "stdout",
     "output_type": "stream",
     "text": [
      "26: Ruscelli's Food Truck at Mojo Pub\n",
      "Build Your Own Burrito Two scrambled eggs with your choice of meat and toppings wrapped in a fresh tortilla. Basic Breakfast Burrito Two scrambled eggs, breakfast potatoes, and melted cheese wrapped in a fresh flour tortilla. Bacon Breakfast Burrito Two scrambled eggs, crispy bacon, breakfast potatoes, and melted cheese wrapped in a fresh flour tortilla. Carne Asada Breakfast Burrito Two scrambled eggs, carne asada, breakfast potatoes, and melted cheese wrapped in a fresh flour tortilla. Sausage Breakfast Burrito Two scrambled eggs, sausage, breakfast potatoes, and melted cheese wrapped in a fresh flour tortilla. Spicy Hot Breakfast Burrito Two scrambled eggs, jalapenos, breakfast potatoes, sriracha and melted cheese wrapped in a fresh flour tortilla. Everything but the Kitchen Sink Breakfast Burrito Two scrambled eggs, bacon, carne asada, breakfast potatoes, avocado and melted cheese wrapped in a flour tortilla. Eat Your Veggies Breakfast Burrito Two scrambled eggs, sauteed mushrooms, spinach, grilled onions, diced tomato, avocado, and melted cheese wrapped in a fresh flour tortilla. Signature Breakfast Burrito Bowl Two scrambled eggs, breakfast potatoes, crispy bacon, avocado, veggies, and cheese in a bowl. Philly Cheesesteak Breakfast Burrito Two scrambled eggs, chopped steak, grilled onions and peppers, sauteed mushrooms, and melted cheese wrapped in a fresh flour tortilla.\n",
      "100\n"
     ]
    }
   ],
   "source": [
    "input_str =  'Carne Asada Breakfast Burrito'\n",
    "\n",
    "best_match_rest = ''\n",
    "best_match_menu = ''\n",
    "best_score = 0\n",
    "\n",
    "for i in range(0, 10000):\n",
    "    sc = fuzz.token_set_ratio( input_str, df_grouped['menu'][i])\n",
    "    if sc > best_score:                    \n",
    "        best_score = sc\n",
    "        best_match_rest = str(i) + \": \" + restaurant_id['name'][i]\n",
    "        best_match_menu = df_grouped['menu'][i]\n",
    "\n",
    "print(best_match_rest)\n",
    "print(best_match_menu)\n",
    "print(best_score)"
   ]
  },
  {
   "cell_type": "code",
   "execution_count": 107,
   "id": "c8f0f14c",
   "metadata": {},
   "outputs": [
    {
     "name": "stdout",
     "output_type": "stream",
     "text": [
      "0\n",
      "500\n",
      "1000\n",
      "1500\n",
      "2000\n",
      "2500\n",
      "3000\n",
      "3500\n",
      "4000\n",
      "4500\n",
      "5000\n",
      "5500\n",
      "6000\n",
      "6500\n",
      "7000\n",
      "7500\n",
      "8000\n",
      "8500\n",
      "9000\n",
      "9500\n",
      "10000\n",
      "10500\n",
      "11000\n",
      "11500\n",
      "12000\n",
      "12500\n",
      "13000\n",
      "13500\n",
      "14000\n",
      "14500\n",
      "15000\n",
      "15500\n",
      "16000\n",
      "16500\n",
      "17000\n",
      "17500\n",
      "18000\n",
      "18500\n",
      "19000\n",
      "19500\n",
      "20000\n",
      "20500\n",
      "21000\n",
      "21500\n",
      "22000\n",
      "22500\n",
      "23000\n",
      "23500\n",
      "24000\n",
      "24500\n",
      "25000\n",
      "25500\n",
      "26000\n",
      "26500\n",
      "27000\n",
      "27500\n",
      "28000\n",
      "28500\n",
      "29000\n",
      "29500\n",
      "30000\n",
      "30500\n",
      "31000\n",
      "31500\n",
      "32000\n",
      "32500\n",
      "33000\n",
      "33500\n",
      "34000\n",
      "34500\n",
      "35000\n",
      "35500\n",
      "36000\n",
      "36500\n",
      "37000\n",
      "37500\n",
      "38000\n",
      "38500\n",
      "39000\n",
      "39500\n",
      "40000\n",
      "40500\n",
      "41000\n",
      "41500\n",
      "42000\n",
      "42500\n",
      "43000\n",
      "43500\n",
      "44000\n",
      "44500\n",
      "45000\n",
      "45500\n",
      "46000\n",
      "46500\n",
      "47000\n",
      "47500\n",
      "48000\n",
      "48500\n",
      "49000\n",
      "49500\n",
      "50000\n",
      "50500\n",
      "51000\n",
      "51500\n",
      "52000\n",
      "52500\n",
      "53000\n",
      "53500\n",
      "54000\n",
      "54500\n",
      "55000\n",
      "55500\n",
      "56000\n",
      "56500\n",
      "57000\n",
      "57500\n",
      "58000\n",
      "58500\n",
      "59000\n",
      "59500\n",
      "60000\n",
      "60500\n"
     ]
    }
   ],
   "source": [
    "df_grouped['menu'] = [entry.lower() for entry in df_grouped['menu']]\n",
    "df_grouped['menu'] = [word_tokenize(entry) for entry in df_grouped['menu']]\n",
    "\n",
    "tag_map = defaultdict(lambda : wn.NOUN)\n",
    "tag_map['J'] = wn.ADJ\n",
    "tag_map['V'] = wn.VERB\n",
    "tag_map['R'] = wn.ADV\n",
    "for index,entry in enumerate(df_grouped['menu']):\n",
    "    if index % 500 == 0:\n",
    "      print(index)\n",
    "    # Declaring Empty List to store the words that follow the rules for this step\n",
    "    Final_words = []\n",
    "    # Initializing WordNetLemmatizer()\n",
    "    word_Lemmatized = WordNetLemmatizer()\n",
    "    # pos_tag function below will provide the 'tag' i.e if the word is Noun(N) or Verb(V) or something else.\n",
    "    for word, tag in pos_tag(entry):\n",
    "        # Below condition is to check for Stop words and consider only alphabets\n",
    "        if word not in stopwords.words('english') and word.isalpha():\n",
    "            word_Final = word_Lemmatized.lemmatize(word,tag_map[tag[0]])\n",
    "            Final_words.append(word_Final)\n",
    "    # The final processed set of words for each iteration will be stored in 'text_final'\n",
    "    df_grouped.loc[index,'menu_final'] = str(Final_words)"
   ]
  },
  {
   "cell_type": "code",
   "execution_count": 108,
   "id": "85154d77",
   "metadata": {},
   "outputs": [],
   "source": [
    "import pickle\n",
    "from nltk.stem import WordNetLemmatizer\n",
    "\n",
    "\n",
    "# Save the lemmatizer to a file\n",
    "with open('wordnet_lemmatizer.pkl', 'wb') as f:\n",
    "    pickle.dump(word_Lemmatized, f)\n"
   ]
  },
  {
   "cell_type": "code",
   "execution_count": 109,
   "id": "2e3f7348",
   "metadata": {},
   "outputs": [],
   "source": [
    "df_grouped.to_csv('data_cl.csv', index=False)"
   ]
  }
 ],
 "metadata": {
  "kernelspec": {
   "display_name": "Python 3 (ipykernel)",
   "language": "python",
   "name": "python3"
  },
  "language_info": {
   "codemirror_mode": {
    "name": "ipython",
    "version": 3
   },
   "file_extension": ".py",
   "mimetype": "text/x-python",
   "name": "python",
   "nbconvert_exporter": "python",
   "pygments_lexer": "ipython3",
   "version": "3.9.13"
  }
 },
 "nbformat": 4,
 "nbformat_minor": 5
}
